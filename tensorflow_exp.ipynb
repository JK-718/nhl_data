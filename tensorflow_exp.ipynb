{
 "cells": [
  {
   "cell_type": "code",
   "execution_count": 2,
   "id": "1abdaaa4",
   "metadata": {},
   "outputs": [],
   "source": [
    "import tensorflow as tf\n",
    "import numpy as np\n",
    "import pandas as pd\n",
    "from tensorflow import keras\n",
    "from sklearn.model_selection import train_test_split\n",
    "import database_connection\n",
    "from shot_data import get_shots\n",
    "from expected_goals_random_forest_train import clean_df"
   ]
  },
  {
   "cell_type": "code",
   "execution_count": 3,
   "id": "ab9567f2",
   "metadata": {},
   "outputs": [
    {
     "data": {
      "text/plain": [
       "'2.4.0'"
      ]
     },
     "execution_count": 3,
     "metadata": {},
     "output_type": "execute_result"
    }
   ],
   "source": [
    "keras.__version__"
   ]
  },
  {
   "cell_type": "code",
   "execution_count": 57,
   "id": "5b1471bc",
   "metadata": {},
   "outputs": [],
   "source": [
    "model = keras.models.Sequential([\n",
    "    keras.layers.Flatten(input_shape=[15]),\n",
    "    keras.layers.Dense(30, activation='relu'),\n",
    "    keras.layers.Dense(30, activation='relu'),\n",
    "    keras.layers.Dense(1, activation='sigmoid'),\n",
    "])"
   ]
  },
  {
   "cell_type": "code",
   "execution_count": 58,
   "id": "206f2baa",
   "metadata": {},
   "outputs": [],
   "source": [
    "model.compile(loss='binary_crossentropy',\n",
    "             optimizer='adam',\n",
    "             metrics=['accuracy'])"
   ]
  },
  {
   "cell_type": "code",
   "execution_count": 54,
   "id": "d290a4fb",
   "metadata": {},
   "outputs": [
    {
     "name": "stderr",
     "output_type": "stream",
     "text": [
      "C:\\Users\\Jimmy\\Documents\\nhl_data\\shot_data.py:22: RuntimeWarning: invalid value encountered in arccos\n",
      "  return np.arccos(np.dot(vector_1 - vector_2, vector_3 - vector_2) /\n"
     ]
    }
   ],
   "source": [
    "df = get_shots()\n",
    "df = clean_df(df)"
   ]
  },
  {
   "cell_type": "code",
   "execution_count": 53,
   "id": "9ead4adf",
   "metadata": {},
   "outputs": [],
   "source": [
    "#df = df[['GoalFlag', 'AdjDistance', 'Angle', 'ForwardFlag']]"
   ]
  },
  {
   "cell_type": "code",
   "execution_count": 55,
   "id": "19124876",
   "metadata": {},
   "outputs": [],
   "source": [
    "X, y = df.iloc[:, 1:].values.astype(float), df.iloc[:, 0].values.astype(float)\n",
    "X_train, X_test, y_train, y_test = train_test_split(X, y, test_size=0.3, random_state=42)"
   ]
  },
  {
   "cell_type": "code",
   "execution_count": 70,
   "id": "2704b74d",
   "metadata": {},
   "outputs": [
    {
     "data": {
      "text/plain": [
       "(51771, 15)"
      ]
     },
     "execution_count": 70,
     "metadata": {},
     "output_type": "execute_result"
    }
   ],
   "source": [
    "\n",
    "X.shape\n",
    "\n"
   ]
  },
  {
   "cell_type": "code",
   "execution_count": 59,
   "id": "d05a6f97",
   "metadata": {},
   "outputs": [
    {
     "name": "stdout",
     "output_type": "stream",
     "text": [
      "Epoch 1/5\n",
      "1133/1133 [==============================] - 2s 1ms/step - loss: 0.4385 - accuracy: 0.8936 - val_loss: 0.3631 - val_accuracy: 0.8701\n",
      "Epoch 2/5\n",
      "1133/1133 [==============================] - 1s 1ms/step - loss: 0.3106 - accuracy: 0.9026 - val_loss: 0.3008 - val_accuracy: 0.8917\n",
      "Epoch 3/5\n",
      "1133/1133 [==============================] - 1s 1ms/step - loss: 0.3015 - accuracy: 0.9035 - val_loss: 0.2713 - val_accuracy: 0.9055\n",
      "Epoch 4/5\n",
      "1133/1133 [==============================] - 1s 1ms/step - loss: 0.2952 - accuracy: 0.9033 - val_loss: 0.2699 - val_accuracy: 0.9047\n",
      "Epoch 5/5\n",
      "1133/1133 [==============================] - 2s 1ms/step - loss: 0.2902 - accuracy: 0.9039 - val_loss: 0.2653 - val_accuracy: 0.9064\n"
     ]
    }
   ],
   "source": [
    "test = model.fit(X_train, y_train, epochs=30,\n",
    "                validation_data=(X_test, y_test))"
   ]
  },
  {
   "cell_type": "code",
   "execution_count": 60,
   "id": "c26371f6",
   "metadata": {},
   "outputs": [
    {
     "name": "stdout",
     "output_type": "stream",
     "text": [
      "486/486 [==============================] - 0s 724us/step - loss: 0.2653 - accuracy: 0.9064\n"
     ]
    },
    {
     "data": {
      "text/plain": [
       "[0.265300452709198, 0.9063867926597595]"
      ]
     },
     "execution_count": 60,
     "metadata": {},
     "output_type": "execute_result"
    }
   ],
   "source": [
    "model.evaluate(X_test, y_test)"
   ]
  },
  {
   "cell_type": "code",
   "execution_count": 75,
   "id": "341c09ff",
   "metadata": {},
   "outputs": [],
   "source": [
    "pred = model.predict(X_test)"
   ]
  },
  {
   "cell_type": "code",
   "execution_count": 92,
   "id": "06c8841a",
   "metadata": {},
   "outputs": [
    {
     "data": {
      "text/plain": [
       "1.0627202255109232"
      ]
     },
     "execution_count": 92,
     "metadata": {},
     "output_type": "execute_result"
    }
   ],
   "source": [
    "count_pred = 0\n",
    "for i in pred:\n",
    "    if i > .25:\n",
    "        count_pred += 1\n",
    "count_pred\n",
    "count_goals = 0\n",
    "for i in y_test:\n",
    "    if i == 1:\n",
    "        count_goals += 1\n",
    "count_goals\n",
    "count_pred/count_goals\n"
   ]
  },
  {
   "cell_type": "code",
   "execution_count": 105,
   "id": "283090a7",
   "metadata": {},
   "outputs": [
    {
     "name": "stdout",
     "output_type": "stream",
     "text": [
      "479 0.03083955704352305\n"
     ]
    }
   ],
   "source": []
  },
  {
   "cell_type": "code",
   "execution_count": null,
   "id": "3ddebc2c",
   "metadata": {},
   "outputs": [],
   "source": []
  },
  {
   "cell_type": "code",
   "execution_count": null,
   "id": "360b8ca0",
   "metadata": {},
   "outputs": [],
   "source": []
  }
 ],
 "metadata": {
  "kernelspec": {
   "display_name": "Python 3",
   "language": "python",
   "name": "python3"
  },
  "language_info": {
   "codemirror_mode": {
    "name": "ipython",
    "version": 3
   },
   "file_extension": ".py",
   "mimetype": "text/x-python",
   "name": "python",
   "nbconvert_exporter": "python",
   "pygments_lexer": "ipython3",
   "version": "3.8.8"
  }
 },
 "nbformat": 4,
 "nbformat_minor": 5
}
