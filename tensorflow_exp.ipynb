{
 "cells": [
  {
   "cell_type": "code",
   "execution_count": 2,
   "id": "1abdaaa4",
   "metadata": {},
   "outputs": [],
   "source": [
    "import tensorflow as tf\n",
    "import numpy as np\n",
    "import pandas as pd\n",
    "from tensorflow import keras\n",
    "from sklearn.model_selection import train_test_split\n",
    "import database_connection\n",
    "from shot_data import get_shots\n",
    "from expected_goals_random_forest_train import clean_df"
   ]
  },
  {
   "cell_type": "code",
   "execution_count": 3,
   "id": "ab9567f2",
   "metadata": {},
   "outputs": [
    {
     "data": {
      "text/plain": [
       "'2.4.0'"
      ]
     },
     "execution_count": 3,
     "metadata": {},
     "output_type": "execute_result"
    }
   ],
   "source": [
    "keras.__version__"
   ]
  },
  {
   "cell_type": "code",
   "execution_count": 57,
   "id": "5b1471bc",
   "metadata": {},
   "outputs": [],
   "source": [
    "model = keras.models.Sequential([\n",
    "    keras.layers.Flatten(input_shape=[15]),\n",
    "    keras.layers.Dense(30, activation='relu'),\n",
    "    keras.layers.Dense(30, activation='relu'),\n",
    "    keras.layers.Dense(1, activation='sigmoid'),\n",
    "])"
   ]
  },
  {
   "cell_type": "code",
   "execution_count": 58,
   "id": "206f2baa",
   "metadata": {},
   "outputs": [],
   "source": [
    "model.compile(loss='binary_crossentropy',\n",
    "             optimizer='adam',\n",
    "             metrics=['accuracy'])"
   ]
  },
  {
   "cell_type": "code",
   "execution_count": 54,
   "id": "d290a4fb",
   "metadata": {},
   "outputs": [
    {
     "name": "stderr",
     "output_type": "stream",
     "text": [
      "C:\\Users\\Jimmy\\Documents\\nhl_data\\shot_data.py:22: RuntimeWarning: invalid value encountered in arccos\n",
      "  return np.arccos(np.dot(vector_1 - vector_2, vector_3 - vector_2) /\n"
     ]
    }
   ],
   "source": [
    "df = get_shots()\n",
    "df = clean_df(df)"
   ]
  },
  {
   "cell_type": "code",
   "execution_count": 53,
   "id": "3cb15a32",
   "metadata": {},
   "outputs": [],
   "source": [
    "#df = df[['GoalFlag', 'AdjDistance', 'Angle', 'ForwardFlag']]"
   ]
  },
  {
   "cell_type": "code",
   "execution_count": 55,
   "id": "19124876",
   "metadata": {},
   "outputs": [],
   "source": [
    "X, y = df.iloc[:, 1:].values.astype(float), df.iloc[:, 0].values.astype(float)\n",
    "X_train, X_test, y_train, y_test = train_test_split(X, y, test_size=0.3, random_state=42)"
   ]
  },
  {
   "cell_type": "code",
   "execution_count": 70,
   "id": "499c31f2",
   "metadata": {},
   "outputs": [
    {
     "data": {
      "text/plain": [
       "(51771, 15)"
      ]
     },
     "execution_count": 70,
     "metadata": {},
     "output_type": "execute_result"
    }
   ],
   "source": [
    "\n",
    "X.shape\n",
    "\n"
   ]
  },
  {
   "cell_type": "code",
   "execution_count": 106,
   "id": "d05a6f97",
   "metadata": {},
   "outputs": [
    {
     "name": "stdout",
     "output_type": "stream",
     "text": [
      "Epoch 1/30\n",
      "1133/1133 [==============================] - 1s 1ms/step - loss: 0.2850 - accuracy: 0.9043 - val_loss: 0.2888 - val_accuracy: 0.9083\n",
      "Epoch 2/30\n",
      "1133/1133 [==============================] - 1s 1ms/step - loss: 0.2845 - accuracy: 0.9044 - val_loss: 0.2667 - val_accuracy: 0.9083\n",
      "Epoch 3/30\n",
      "1133/1133 [==============================] - 1s 1ms/step - loss: 0.2798 - accuracy: 0.9039 - val_loss: 0.2694 - val_accuracy: 0.9088\n",
      "Epoch 4/30\n",
      "1133/1133 [==============================] - 2s 1ms/step - loss: 0.2750 - accuracy: 0.9050 - val_loss: 0.2681 - val_accuracy: 0.9079\n",
      "Epoch 5/30\n",
      "1133/1133 [==============================] - 1s 1ms/step - loss: 0.2766 - accuracy: 0.9051 - val_loss: 0.2747 - val_accuracy: 0.9087\n",
      "Epoch 6/30\n",
      "1133/1133 [==============================] - 1s 1ms/step - loss: 0.2715 - accuracy: 0.9055 - val_loss: 0.2750 - val_accuracy: 0.8991\n",
      "Epoch 7/30\n",
      "1133/1133 [==============================] - 1s 1ms/step - loss: 0.2687 - accuracy: 0.9063 - val_loss: 0.2704 - val_accuracy: 0.9012\n",
      "Epoch 8/30\n",
      "1133/1133 [==============================] - 2s 1ms/step - loss: 0.2689 - accuracy: 0.9058 - val_loss: 0.2641 - val_accuracy: 0.9076\n",
      "Epoch 9/30\n",
      "1133/1133 [==============================] - 1s 1ms/step - loss: 0.2690 - accuracy: 0.9064 - val_loss: 0.2825 - val_accuracy: 0.8983\n",
      "Epoch 10/30\n",
      "1133/1133 [==============================] - 1s 1ms/step - loss: 0.2659 - accuracy: 0.9069 - val_loss: 0.2663 - val_accuracy: 0.9082\n",
      "Epoch 11/30\n",
      "1133/1133 [==============================] - 2s 2ms/step - loss: 0.2640 - accuracy: 0.9065 - val_loss: 0.2742 - val_accuracy: 0.9083\n",
      "Epoch 12/30\n",
      "1133/1133 [==============================] - 1s 1ms/step - loss: 0.2639 - accuracy: 0.9070 - val_loss: 0.2705 - val_accuracy: 0.9042\n",
      "Epoch 13/30\n",
      "1133/1133 [==============================] - 2s 1ms/step - loss: 0.2630 - accuracy: 0.9074 - val_loss: 0.2595 - val_accuracy: 0.9090\n",
      "Epoch 14/30\n",
      "1133/1133 [==============================] - 1s 1ms/step - loss: 0.2625 - accuracy: 0.9073 - val_loss: 0.2598 - val_accuracy: 0.9076\n",
      "Epoch 15/30\n",
      "1133/1133 [==============================] - 2s 1ms/step - loss: 0.2622 - accuracy: 0.9072 - val_loss: 0.2603 - val_accuracy: 0.9081\n",
      "Epoch 16/30\n",
      "1133/1133 [==============================] - 1s 1ms/step - loss: 0.2616 - accuracy: 0.9073 - val_loss: 0.2593 - val_accuracy: 0.9088\n",
      "Epoch 17/30\n",
      "1133/1133 [==============================] - 1s 1ms/step - loss: 0.2615 - accuracy: 0.9075 - val_loss: 0.2618 - val_accuracy: 0.9081\n",
      "Epoch 18/30\n",
      "1133/1133 [==============================] - 2s 1ms/step - loss: 0.2613 - accuracy: 0.9074 - val_loss: 0.2630 - val_accuracy: 0.9078\n",
      "Epoch 19/30\n",
      "1133/1133 [==============================] - 1s 1ms/step - loss: 0.2602 - accuracy: 0.9073 - val_loss: 0.2598 - val_accuracy: 0.9088\n",
      "Epoch 20/30\n",
      "1133/1133 [==============================] - 1s 1ms/step - loss: 0.2595 - accuracy: 0.9076 - val_loss: 0.2590 - val_accuracy: 0.9090\n",
      "Epoch 21/30\n",
      "1133/1133 [==============================] - 1s 1ms/step - loss: 0.2594 - accuracy: 0.9077 - val_loss: 0.2582 - val_accuracy: 0.9084\n",
      "Epoch 22/30\n",
      "1133/1133 [==============================] - 2s 1ms/step - loss: 0.2599 - accuracy: 0.9076 - val_loss: 0.2580 - val_accuracy: 0.9085\n",
      "Epoch 23/30\n",
      "1133/1133 [==============================] - 1s 1ms/step - loss: 0.2582 - accuracy: 0.9076 - val_loss: 0.2625 - val_accuracy: 0.9089\n",
      "Epoch 24/30\n",
      "1133/1133 [==============================] - 1s 1ms/step - loss: 0.2585 - accuracy: 0.9080 - val_loss: 0.2576 - val_accuracy: 0.9084\n",
      "Epoch 25/30\n",
      "1133/1133 [==============================] - 2s 1ms/step - loss: 0.2577 - accuracy: 0.9080 - val_loss: 0.2583 - val_accuracy: 0.9087\n",
      "Epoch 26/30\n",
      "1133/1133 [==============================] - 1s 1ms/step - loss: 0.2577 - accuracy: 0.9078 - val_loss: 0.2588 - val_accuracy: 0.9070\n",
      "Epoch 27/30\n",
      "1133/1133 [==============================] - 2s 1ms/step - loss: 0.2572 - accuracy: 0.9079 - val_loss: 0.2590 - val_accuracy: 0.9079\n",
      "Epoch 28/30\n",
      "1133/1133 [==============================] - 2s 2ms/step - loss: 0.2569 - accuracy: 0.9082 - val_loss: 0.2606 - val_accuracy: 0.9082\n",
      "Epoch 29/30\n",
      "1133/1133 [==============================] - 2s 2ms/step - loss: 0.2567 - accuracy: 0.9083 - val_loss: 0.2612 - val_accuracy: 0.9084\n",
      "Epoch 30/30\n",
      "1133/1133 [==============================] - 2s 1ms/step - loss: 0.2563 - accuracy: 0.9083 - val_loss: 0.2555 - val_accuracy: 0.9086\n"
     ]
    }
   ],
   "source": [
    "test = model.fit(X_train, y_train, epochs=30,\n",
    "                validation_data=(X_test, y_test))"
   ]
  },
  {
   "cell_type": "code",
   "execution_count": 60,
   "id": "c26371f6",
   "metadata": {},
   "outputs": [
    {
     "name": "stdout",
     "output_type": "stream",
     "text": [
      "486/486 [==============================] - 0s 724us/step - loss: 0.2653 - accuracy: 0.9064\n"
     ]
    },
    {
     "data": {
      "text/plain": [
       "[0.265300452709198, 0.9063867926597595]"
      ]
     },
     "execution_count": 60,
     "metadata": {},
     "output_type": "execute_result"
    }
   ],
   "source": [
    "model.evaluate(X_test, y_test)"
   ]
  },
  {
   "cell_type": "code",
   "execution_count": 75,
   "id": "341c09ff",
   "metadata": {},
   "outputs": [],
   "source": []
  },
  {
   "cell_type": "code",
   "execution_count": 92,
   "id": "cbbf2d32",
   "metadata": {},
   "outputs": [
    {
     "data": {
      "text/plain": [
       "1.0627202255109232"
      ]
     },
     "execution_count": 92,
     "metadata": {},
     "output_type": "execute_result"
    }
   ],
   "source": []
  },
  {
   "cell_type": "code",
   "execution_count": 105,
   "id": "964f41a2",
   "metadata": {},
   "outputs": [
    {
     "name": "stdout",
     "output_type": "stream",
     "text": [
      "479 0.03083955704352305\n"
     ]
    }
   ],
   "source": []
  },
 ],
 "metadata": {
  "kernelspec": {
   "display_name": "Python 3",
   "language": "python",
   "name": "python3"
  },
  "language_info": {
   "codemirror_mode": {
    "name": "ipython",
    "version": 3
   },
   "file_extension": ".py",
   "mimetype": "text/x-python",
   "name": "python",
   "nbconvert_exporter": "python",
   "pygments_lexer": "ipython3",
   "version": "3.8.8"
  }
 },
 "nbformat": 4,
 "nbformat_minor": 5
}
